{
 "cells": [
  {
   "cell_type": "code",
   "execution_count": 18,
   "id": "d1478acb",
   "metadata": {},
   "outputs": [
    {
     "name": "stdout",
     "output_type": "stream",
     "text": [
      "[40, 50, 60, 0, 0, 0]\n"
     ]
    }
   ],
   "source": [
    "'''\n",
    "Consider an array named source. Write a method/function named shiftLeft( source, k) that shifts all the elements of the source array to the left by 'k' positions. You must execute the method by passing an array and number of cells to be shifted. After calling the method, print the array to show whether the elements have been shifted properly.\n",
    "\n",
    "Example:\n",
    "\n",
    "source=[10,20,30,40,50,60]\n",
    "\n",
    "shiftLeft(source,3)\n",
    "\n",
    "After calling shiftLeft(source,3), printing the array should give the output as:\n",
    "\n",
    "[ 40, 50, 60, 0, 0, 0 ]\n",
    "'''\n",
    "\n",
    "def shiftLeft(source, k):\n",
    "\n",
    "    for i in range(len(source)):\n",
    "        if i + k < len(source):\n",
    "            source[i] = source[i + k]\n",
    "        else:\n",
    "            source[i] = 0\n",
    "    for i in range(len(source) - k, len(source)):\n",
    "        source[i] = 0\n",
    "\n",
    "source = [10, 20, 30, 40, 50, 60]\n",
    "shiftLeft(source, 3)\n",
    "print(source)"
   ]
  },
  {
   "cell_type": "code",
   "execution_count": 17,
   "id": "e553ff6a",
   "metadata": {},
   "outputs": [
    {
     "name": "stdout",
     "output_type": "stream",
     "text": [
      "[40, 50, 60, 10, 20, 30]\n"
     ]
    }
   ],
   "source": [
    "'''\n",
    "Consider an array named source. Write a method/function named rotateLeft( source, k) that rotates all the elements of the source array to the left by 'k' positions. You must execute the method by passing an array and number of cells to be shifted. After calling the method, print the array to show whether the elements have been shifted properly.\n",
    "\n",
    "Example:\n",
    "\n",
    "source=[10,20,30,40,50,60]\n",
    "\n",
    "rotateLeft(source,3)\n",
    "\n",
    "After calling rotateLeft(source,3), printing the array should give the output as:\n",
    "\n",
    "[ 40, 50, 60, 10, 20, 30]\n",
    "'''\n",
    "\n",
    "def rotateLeft(source, k):\n",
    "    \n",
    "    n = len(source)\n",
    "    k = k % n \n",
    "    source[:] = source[k:] + source[:k]\n",
    "\n",
    "source = [10, 20, 30, 40, 50, 60]\n",
    "rotateLeft(source, 3)\n",
    "print(source)"
   ]
  },
  {
   "cell_type": "code",
   "execution_count": 16,
   "id": "dd99b124",
   "metadata": {},
   "outputs": [
    {
     "name": "stdout",
     "output_type": "stream",
     "text": [
      "[10, 20, 40, 50, 0, 0, 0]\n"
     ]
    }
   ],
   "source": [
    "'''\n",
    "Consider an array named source. Write a method/function named remove( source, size, idx) that removes the element in index idx of the source array. You must execute the method by passing an array, its size and the idx( that is the index of the element to be removed). After calling the method, print the array to show whether the element of that particular index has been removed properly.\n",
    "\n",
    "Example:\n",
    "\n",
    "source=[10,20,30,40,50,0,0]\n",
    "\n",
    "remove(source,5,2)\n",
    "\n",
    "After calling remove(source,5,2) , printing the array should give the output as:\n",
    "\n",
    "[ 10,20,40,50,0,0,0]\n",
    "'''\n",
    "\n",
    "def remove(source, size, idx):\n",
    "\n",
    "    for i in range(idx, size - 1):\n",
    "        source[i] = source[i + 1]\n",
    "    source[size - 1] = 0\n",
    "\n",
    "source = [10, 20, 30, 40, 50, 0, 0]\n",
    "size = 5 \n",
    "idx = 2   \n",
    "remove(source, size, idx)\n",
    "print(source)"
   ]
  },
  {
   "cell_type": "code",
   "execution_count": 15,
   "id": "60a242e1",
   "metadata": {},
   "outputs": [
    {
     "name": "stdout",
     "output_type": "stream",
     "text": [
      "[10, 30, 50, 0, 0, 0, 0, 0, 0]\n"
     ]
    }
   ],
   "source": [
    "'''\n",
    "Consider an array named source. Write a method/function named removeAll( source, size, element) that removes all the occurrences of the given element in the source array. You must execute the method by passing an array, its size and the element to be removed. After calling the method, print the array to show whether all the occurrences of the element have been removed properly.\n",
    "\n",
    "Example:\n",
    "\n",
    "source=[10,2,30,2,50,2,2,0,0]\n",
    "\n",
    "removeAll(source,7,2)\n",
    "\n",
    "After calling removeAll(source,7,2), all the occurrences of 2 must be removed. Printing the array afterwards should give the output as:\n",
    "\n",
    "[ 10,30,50,0,0,0,0,0,0]\n",
    "'''\n",
    "\n",
    "def removeAll(source, size, element):\n",
    "    \n",
    "    i = 0\n",
    "    while i < size:\n",
    "        if source[i] == element:\n",
    "            for j in range(i, size - 1):\n",
    "                source[j] = source[j + 1]\n",
    "            source[size - 1] = 0\n",
    "            size -= 1\n",
    "        else:\n",
    "            i += 1\n",
    "            \n",
    "source = [10, 2, 30, 2, 50, 2, 2, 0, 0]\n",
    "size = 7 \n",
    "element = 2\n",
    "removeAll(source, size, element)\n",
    "print(source)"
   ]
  },
  {
   "cell_type": "code",
   "execution_count": null,
   "id": "6165a2a4",
   "metadata": {},
   "outputs": [],
   "source": []
  }
 ],
 "metadata": {
  "kernelspec": {
   "display_name": "Python 3 (ipykernel)",
   "language": "python",
   "name": "python3"
  },
  "language_info": {
   "codemirror_mode": {
    "name": "ipython",
    "version": 3
   },
   "file_extension": ".py",
   "mimetype": "text/x-python",
   "name": "python",
   "nbconvert_exporter": "python",
   "pygments_lexer": "ipython3",
   "version": "3.11.5"
  }
 },
 "nbformat": 4,
 "nbformat_minor": 5
}
